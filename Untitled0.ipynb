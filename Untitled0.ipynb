{
  "nbformat": 4,
  "nbformat_minor": 0,
  "metadata": {
    "colab": {
      "provenance": [],
      "toc_visible": true,
      "authorship_tag": "ABX9TyP6kPk+lGE14McPHBaZgV4G",
      "include_colab_link": true
    },
    "kernelspec": {
      "name": "python3",
      "display_name": "Python 3"
    },
    "language_info": {
      "name": "python"
    }
  },
  "cells": [
    {
      "cell_type": "markdown",
      "metadata": {
        "id": "view-in-github",
        "colab_type": "text"
      },
      "source": [
        "<a href=\"https://colab.research.google.com/github/CAPTAINY2/PPT_Assignment-1---Arrays/blob/main/Untitled0.ipynb\" target=\"_parent\"><img src=\"https://colab.research.google.com/assets/colab-badge.svg\" alt=\"Open In Colab\"/></a>"
      ]
    },
    {
      "cell_type": "markdown",
      "source": [
        "### Question-1"
      ],
      "metadata": {
        "id": "CFyJGGqjjyNx"
      }
    },
    {
      "cell_type": "code",
      "execution_count": 78,
      "metadata": {
        "id": "22TyFF8o4_uF",
        "colab": {
          "base_uri": "https://localhost:8080/"
        },
        "outputId": "778f01b5-e15e-406f-e337-60772bfcda34"
      },
      "outputs": [
        {
          "output_type": "stream",
          "name": "stdout",
          "text": [
            "Output: [0, 1]\n"
          ]
        }
      ],
      "source": [
        "def TwoSum(nums, target):\n",
        "    Map= {}\n",
        "\n",
        "    for i, num in enumerate(nums):\n",
        "        a = target - num\n",
        "        if a in Map:\n",
        "            return [Map[a], i]\n",
        "        Map[num] = i\n",
        "    \n",
        "    return []\n",
        "nums = [2, 7, 11, 15]\n",
        "print(f\"Output: {TwoSum(nums, target)}\")\n"
      ]
    },
    {
      "cell_type": "markdown",
      "source": [
        "### Ouestion-2"
      ],
      "metadata": {
        "id": "kq4w5M8_FYkW"
      }
    },
    {
      "cell_type": "code",
      "source": [
        "def RemoveElement(num, val):\n",
        "    i=j=k=0\n",
        "    while i < len(num):\n",
        "        if num[i] != val:\n",
        "            num[j] = num[i]\n",
        "            j += 1\n",
        "            k += 1\n",
        "        i += 1\n",
        "    return k\n",
        "print(f\"Output: {k}\")  \n",
        "print(f\"Nums: {num}\") \n"
      ],
      "metadata": {
        "colab": {
          "base_uri": "https://localhost:8080/"
        },
        "id": "0aJ1zwGY6wZO",
        "outputId": "b5b1cb8c-5db8-447e-b75a-d9dc338f3172"
      },
      "execution_count": 31,
      "outputs": [
        {
          "output_type": "stream",
          "name": "stdout",
          "text": [
            "Output: 2\n",
            "Nums: [2, 2, 2, 3]\n"
          ]
        }
      ]
    },
    {
      "cell_type": "markdown",
      "source": [
        "### Ouestion-3"
      ],
      "metadata": {
        "id": "mOhG0i9SNtJp"
      }
    },
    {
      "cell_type": "code",
      "source": [
        "def InsertedNum(nums, target):\n",
        "    left = 0\n",
        "    right =len(nums) - 1\n",
        "\n",
        "    while left<=right:\n",
        "        mid = (left + right)//2\n",
        "        if nums[mid] == target:\n",
        "            return mid\n",
        "        elif nums[mid] < target:\n",
        "            left = mid + 1\n",
        "        else:\n",
        "            right = mid - 1\n",
        "\n",
        "    return left\n",
        "result = InsertedNum(nums, target)\n",
        "print(f\"Output: {result}\")  \n"
      ],
      "metadata": {
        "colab": {
          "base_uri": "https://localhost:8080/"
        },
        "id": "-OhkOnXXFfz5",
        "outputId": "dff2344e-8545-4260-a982-1c612b6ddbec"
      },
      "execution_count": 24,
      "outputs": [
        {
          "output_type": "stream",
          "name": "stdout",
          "text": [
            "Output: 2\n"
          ]
        }
      ]
    },
    {
      "cell_type": "markdown",
      "source": [
        "### Question-4\n"
      ],
      "metadata": {
        "id": "6i-Pz15VOLAv"
      }
    },
    {
      "cell_type": "code",
      "source": [
        "def IncDigit(digits):\n",
        "    add=1\n",
        "\n",
        "    for i in range(len(digits) - 1, -1, -1):\n",
        "        digits[i] +=add\n",
        "        add = digits[i] // 10\n",
        "        digits[i] %= 10\n",
        "\n",
        "        if add == 0:\n",
        "            break\n",
        "\n",
        "    if add > 0:\n",
        "        digits.insert(0, add)\n",
        "    return digits\n",
        "print(digits)"
      ],
      "metadata": {
        "colab": {
          "base_uri": "https://localhost:8080/"
        },
        "id": "0UI0u6iNOPy3",
        "outputId": "db082c3f-9dd5-41b6-faac-40c16e6c472a"
      },
      "execution_count": 36,
      "outputs": [
        {
          "output_type": "stream",
          "name": "stdout",
          "text": [
            "[1, 2, 4]\n"
          ]
        }
      ]
    },
    {
      "cell_type": "markdown",
      "source": [
        "### Question-5"
      ],
      "metadata": {
        "id": "CXaH1wK0Qz0U"
      }
    },
    {
      "cell_type": "code",
      "source": [
        "def Merge(nums1, m, nums2, n):\n",
        "    p1 = m - 1\n",
        "    p2 = n - 1\n",
        "    p = m + n - 1\n",
        "\n",
        "    while p1 >= 0 and p2 >= 0:\n",
        "        if nums1[p1] >= nums2[p2]:\n",
        "            nums1[p] = nums1[p1]\n",
        "            p1 -= 1\n",
        "        else:\n",
        "            nums1[p] = nums2[p2]\n",
        "            p2 -= 1\n",
        "        p -= 1\n",
        "\n",
        "    if p2 >= 0:\n",
        "        nums1[:p2 + 1] = nums2[:p2 + 1]\n",
        "    return nums1\n",
        "    \n",
        "nums1 = [1, 2, 3, 0, 0, 0]\n",
        "m = 3\n",
        "nums2 = [2, 5, 6]\n",
        "n = 3\n",
        "result = Merge(nums1, m, nums2, n)\n",
        "print(f\"Output: { result}\")  \n"
      ],
      "metadata": {
        "colab": {
          "base_uri": "https://localhost:8080/"
        },
        "id": "vfPyCClBTy5k",
        "outputId": "f012a6f3-41be-4c53-d770-d56fc2b1b016"
      },
      "execution_count": 49,
      "outputs": [
        {
          "output_type": "stream",
          "name": "stdout",
          "text": [
            "Output: [1, 2, 2, 3, 5, 6]\n"
          ]
        }
      ]
    },
    {
      "cell_type": "markdown",
      "source": [
        "### Question-6"
      ],
      "metadata": {
        "id": "nWqQFGo7XH0R"
      }
    },
    {
      "cell_type": "code",
      "source": [
        "def FindDouble(nums):\n",
        "    s=set()\n",
        "\n",
        "    for i in nums:\n",
        "        if i in s:\n",
        "            return True\n",
        "        s.add(i)\n",
        "\n",
        "    return False\n",
        "print(FindDouble(nums))\n"
      ],
      "metadata": {
        "colab": {
          "base_uri": "https://localhost:8080/"
        },
        "id": "WRYhdacSUt8V",
        "outputId": "0673d40a-fa65-4576-93e0-54505da6306d"
      },
      "execution_count": 56,
      "outputs": [
        {
          "output_type": "stream",
          "name": "stdout",
          "text": [
            "True\n"
          ]
        }
      ]
    },
    {
      "cell_type": "markdown",
      "source": [
        "### Question-7"
      ],
      "metadata": {
        "id": "vSa8-Pg0aaXM"
      }
    },
    {
      "cell_type": "code",
      "source": [
        "def ZeroesInLast(nums):\n",
        "    last_index = 0\n",
        "\n",
        "    for i in range(len(nums)):\n",
        "        if nums[i] != 0:\n",
        "            nums[i], nums[last_index] = nums[last_index], nums[i]\n",
        "            last_index += 1\n",
        "\n",
        "    for i in range(last_index, len(nums)):\n",
        "        nums[i] = 0\n",
        "    return nums\n",
        "    \n",
        "print(f\"Output: {ZeroesInLast(nums)}\")\n"
      ],
      "metadata": {
        "colab": {
          "base_uri": "https://localhost:8080/"
        },
        "id": "IQlMYmeBYQAi",
        "outputId": "3da09008-7907-48cd-f526-86af20a6ca28"
      },
      "execution_count": 69,
      "outputs": [
        {
          "output_type": "stream",
          "name": "stdout",
          "text": [
            "Output: [1, 3, 12, 0, 0]\n"
          ]
        }
      ]
    },
    {
      "cell_type": "markdown",
      "source": [
        "### Question-8"
      ],
      "metadata": {
        "id": "z8_SjWmgaeeR"
      }
    },
    {
      "cell_type": "code",
      "source": [
        "def TwiceNo(nums):\n",
        "    empty = set()\n",
        "    duplicate = mis = 0\n",
        "    \n",
        "    for i in nums:\n",
        "        if i in empty:\n",
        "            duplicate = i\n",
        "        empty.add(i)\n",
        "\n",
        "    n = len(nums)\n",
        "    ExpectedSum = n * (n + 1) // 2\n",
        "    ActualSum = sum(nums)\n",
        "    mis = ExpectedSum - ActualSum + duplicate\n",
        "\n",
        "    return [duplicate, mis]\n",
        "\n",
        "print(f\"Output: {TwiceNo(nums)}\")"
      ],
      "metadata": {
        "colab": {
          "base_uri": "https://localhost:8080/"
        },
        "id": "gxeqnOj6bPbh",
        "outputId": "f93e1130-5cf4-4a24-ba3e-a9bd777f2331"
      },
      "execution_count": 73,
      "outputs": [
        {
          "output_type": "stream",
          "name": "stdout",
          "text": [
            "Output: [2, 3]\n"
          ]
        }
      ]
    },
    {
      "cell_type": "code",
      "source": [
        " "
      ],
      "metadata": {
        "id": "sI2Uy18tbUEm"
      },
      "execution_count": null,
      "outputs": []
    }
  ]
}